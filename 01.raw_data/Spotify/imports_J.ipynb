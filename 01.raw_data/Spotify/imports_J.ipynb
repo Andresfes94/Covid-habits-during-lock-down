{
 "cells": [
  {
   "cell_type": "code",
   "execution_count": 64,
   "metadata": {},
   "outputs": [],
   "source": [
    "import pandas as pd\n",
    "import numpy as np\n",
    "import pymysql\n",
    "import getpass\n",
    "import re\n",
    "from bs4 import BeautifulSoup\n",
    "import requests\n",
    "import datetime\n",
    "import os"
   ]
  },
  {
   "cell_type": "code",
   "execution_count": 65,
   "metadata": {},
   "outputs": [
    {
     "data": {
      "text/plain": [
       "['2020-08-21',\n",
       " '2020-08-14',\n",
       " '2020-08-07',\n",
       " '2020-07-31',\n",
       " '2020-07-24',\n",
       " '2020-07-17',\n",
       " '2020-07-10',\n",
       " '2020-07-03',\n",
       " '2020-06-26',\n",
       " '2020-06-19',\n",
       " '2020-06-12',\n",
       " '2020-06-05',\n",
       " '2020-05-29',\n",
       " '2020-05-22',\n",
       " '2020-05-15',\n",
       " '2020-05-08',\n",
       " '2020-05-01',\n",
       " '2020-04-24',\n",
       " '2020-04-17',\n",
       " '2020-04-10',\n",
       " '2020-04-03',\n",
       " '2020-03-27',\n",
       " '2020-03-20',\n",
       " '2020-03-13',\n",
       " '2020-03-06',\n",
       " '2020-02-28',\n",
       " '2020-02-21',\n",
       " '2020-02-14',\n",
       " '2020-02-07',\n",
       " '2020-01-31',\n",
       " '2020-01-24',\n",
       " '2020-01-17',\n",
       " '2020-01-10',\n",
       " '2020-01-03',\n",
       " '2019-12-27',\n",
       " '2019-12-20',\n",
       " '2019-12-13',\n",
       " '2019-12-06',\n",
       " '2019-11-29',\n",
       " '2019-11-22',\n",
       " '2019-11-15',\n",
       " '2019-11-08',\n",
       " '2019-11-01',\n",
       " '2019-10-25',\n",
       " '2019-10-18',\n",
       " '2019-10-11',\n",
       " '2019-10-04',\n",
       " '2019-09-27',\n",
       " '2019-09-20',\n",
       " '2019-09-13',\n",
       " '2019-09-06',\n",
       " '2019-08-30',\n",
       " '2019-08-23',\n",
       " '2019-08-16',\n",
       " '2019-08-09',\n",
       " '2019-08-02',\n",
       " '2019-07-26',\n",
       " '2019-07-19',\n",
       " '2019-07-12',\n",
       " '2019-07-05',\n",
       " '2019-06-28',\n",
       " '2019-06-21',\n",
       " '2019-06-14',\n",
       " '2019-06-07',\n",
       " '2019-05-31',\n",
       " '2019-05-24',\n",
       " '2019-05-17',\n",
       " '2019-05-10',\n",
       " '2019-05-03',\n",
       " '2019-04-26',\n",
       " '2019-04-19',\n",
       " '2019-04-12',\n",
       " '2019-04-05',\n",
       " '2019-03-29',\n",
       " '2019-03-22',\n",
       " '2019-03-15',\n",
       " '2019-03-08',\n",
       " '2019-03-01',\n",
       " '2019-02-22',\n",
       " '2019-02-15',\n",
       " '2019-02-08',\n",
       " '2019-02-01',\n",
       " '2019-01-25',\n",
       " '2019-01-18',\n",
       " '2019-01-11',\n",
       " '2019-01-04',\n",
       " '2018-12-28',\n",
       " '2018-12-21',\n",
       " '2018-12-14',\n",
       " '2018-12-07',\n",
       " '2018-11-30',\n",
       " '2018-11-23',\n",
       " '2018-11-16',\n",
       " '2018-11-09',\n",
       " '2018-11-02',\n",
       " '2018-10-26',\n",
       " '2018-10-19',\n",
       " '2018-10-12',\n",
       " '2018-10-05',\n",
       " '2018-09-28',\n",
       " '2018-09-21',\n",
       " '2018-09-14',\n",
       " '2018-09-07',\n",
       " '2018-08-31',\n",
       " '2018-08-24']"
      ]
     },
     "execution_count": 65,
     "metadata": {},
     "output_type": "execute_result"
    }
   ],
   "source": [
    "# Create a list of dates\n",
    "\n",
    "base = datetime.datetime(2020, 8, 21)\n",
    "date_list = [(base - datetime.timedelta(days=x)*7).strftime(\"%Y-%m-%d\") for x in range(0, 105)]\n",
    "date_list"
   ]
  },
  {
   "cell_type": "code",
   "execution_count": 66,
   "metadata": {},
   "outputs": [],
   "source": [
    "# create a weekly date string for the url of spotify\n",
    "weeks_date=[]\n",
    "\n",
    "for i in range(len(date_list)-1):\n",
    "    x=f\"{date_list[i+1]}--{date_list[i]}\"\n",
    "    weeks_date.append(x)\n"
   ]
  },
  {
   "cell_type": "code",
   "execution_count": null,
   "metadata": {},
   "outputs": [],
   "source": []
  },
  {
   "cell_type": "code",
   "execution_count": 78,
   "metadata": {},
   "outputs": [],
   "source": [
    "# function to extract .csv files imputing a country\n",
    "def csv_spotify_import(country_code):\n",
    "    \n",
    "    #create a folder for the country\n",
    "    os.mkdir(f'01.raw_data/{country_code}')\n",
    "\n",
    "\n",
    "    \n",
    "    # loop over the dates to get the diferent .csv \n",
    "    \n",
    "    for week in weeks_date:\n",
    "        url =f\"https://spotifycharts.com/regional/{country_code}/weekly/{week}/download\"\n",
    "        r = requests.get(url)\n",
    "\n",
    "        #retrieving data from the URL using get method\n",
    "        with open(f\"01.raw_data/{country_code}/{week}.csv\", 'wb') as f:\n",
    "            f.write(r.content)"
   ]
  },
  {
   "cell_type": "code",
   "execution_count": 85,
   "metadata": {},
   "outputs": [
    {
     "data": {
      "text/plain": [
       "['at',\n",
       " 'be',\n",
       " 'hr',\n",
       " 'bg',\n",
       " 'cy',\n",
       " 'cz',\n",
       " 'dk',\n",
       " 'ee',\n",
       " 'fi',\n",
       " 'fr',\n",
       " 'de',\n",
       " 'gr',\n",
       " 'hu',\n",
       " 'ie',\n",
       " 'it',\n",
       " 'lv',\n",
       " 'lt',\n",
       " 'lu',\n",
       " 'mt',\n",
       " 'nl',\n",
       " 'pl',\n",
       " 'pt',\n",
       " 'ro',\n",
       " 'sk',\n",
       " 'si',\n",
       " 'es',\n",
       " 'se',\n",
       " 'gb']"
      ]
     },
     "execution_count": 85,
     "metadata": {},
     "output_type": "execute_result"
    }
   ],
   "source": [
    "# create a list of countries\n",
    "eu_countries1 = ['AT', 'BE', 'HR', 'BG', 'CY', 'CZ', 'DK', 'EE', 'FI', 'FR', 'DE', 'GR', 'HU', 'IE',\n",
    "'IT', 'LV', 'LT', 'LU', 'MT', 'NL', 'PL', 'PT', 'RO', 'SK', 'SI', 'ES', 'SE', 'GB']\n",
    "\n",
    "eu_countries = [i.lower() for i in eu_countries1]\n",
    "eu_countries"
   ]
  },
  {
   "cell_type": "code",
   "execution_count": 86,
   "metadata": {},
   "outputs": [],
   "source": [
    "for country in eu_countries:\n",
    "    csv_spotify_import(country)\n",
    "    "
   ]
  },
  {
   "cell_type": "code",
   "execution_count": null,
   "metadata": {},
   "outputs": [],
   "source": []
  }
 ],
 "metadata": {
  "kernelspec": {
   "display_name": "Python 3",
   "language": "python",
   "name": "python3"
  },
  "language_info": {
   "codemirror_mode": {
    "name": "ipython",
    "version": 3
   },
   "file_extension": ".py",
   "mimetype": "text/x-python",
   "name": "python",
   "nbconvert_exporter": "python",
   "pygments_lexer": "ipython3",
   "version": "3.8.3"
  }
 },
 "nbformat": 4,
 "nbformat_minor": 4
}
