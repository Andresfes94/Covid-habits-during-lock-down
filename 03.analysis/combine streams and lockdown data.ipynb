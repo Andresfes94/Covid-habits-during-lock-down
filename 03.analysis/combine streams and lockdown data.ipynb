{
 "cells": [
  {
   "cell_type": "markdown",
   "metadata": {},
   "source": [
    "# Combine streams and lockdown data"
   ]
  },
  {
   "cell_type": "code",
   "execution_count": 138,
   "metadata": {},
   "outputs": [],
   "source": [
    "import os\n",
    "\n",
    "import pandas as pd\n",
    "import matplotlib as mpl\n",
    "import matplotlib.pyplot as plt\n",
    "import seaborn as sns"
   ]
  },
  {
   "cell_type": "code",
   "execution_count": 114,
   "metadata": {},
   "outputs": [],
   "source": [
    "# import the data\n",
    "f1, f2 = [os.path.join(\"..\", \"02.cleaning\", filename)\n",
    "          for filename in\n",
    "          [\"aggregated_country_streams.pkl\", \"lockdown_clean.pkl\"]]\n",
    "st = pd.read_pickle(f1)\n",
    "ld = pd.read_pickle(f2)\n"
   ]
  },
  {
   "cell_type": "code",
   "execution_count": 115,
   "metadata": {
    "scrolled": true
   },
   "outputs": [
    {
     "data": {
      "text/html": [
       "<div>\n",
       "<style scoped>\n",
       "    .dataframe tbody tr th:only-of-type {\n",
       "        vertical-align: middle;\n",
       "    }\n",
       "\n",
       "    .dataframe tbody tr th {\n",
       "        vertical-align: top;\n",
       "    }\n",
       "\n",
       "    .dataframe thead tr th {\n",
       "        text-align: left;\n",
       "    }\n",
       "</style>\n",
       "<table border=\"1\" class=\"dataframe\">\n",
       "  <thead>\n",
       "    <tr>\n",
       "      <th></th>\n",
       "      <th>date</th>\n",
       "      <th colspan=\"19\" halign=\"left\">streams</th>\n",
       "      <th>mean</th>\n",
       "    </tr>\n",
       "    <tr>\n",
       "      <th>country</th>\n",
       "      <th></th>\n",
       "      <th>AUT</th>\n",
       "      <th>BEL</th>\n",
       "      <th>BGR</th>\n",
       "      <th>CYP</th>\n",
       "      <th>CZE</th>\n",
       "      <th>DEU</th>\n",
       "      <th>DNK</th>\n",
       "      <th>ESP</th>\n",
       "      <th>EST</th>\n",
       "      <th>...</th>\n",
       "      <th>LTU</th>\n",
       "      <th>LUX</th>\n",
       "      <th>LVA</th>\n",
       "      <th>NLD</th>\n",
       "      <th>POL</th>\n",
       "      <th>PRT</th>\n",
       "      <th>ROU</th>\n",
       "      <th>SVK</th>\n",
       "      <th>SWE</th>\n",
       "      <th></th>\n",
       "    </tr>\n",
       "  </thead>\n",
       "  <tbody>\n",
       "    <tr>\n",
       "      <th>0</th>\n",
       "      <td>2018-08-24</td>\n",
       "      <td>10301612</td>\n",
       "      <td>12348795</td>\n",
       "      <td>985485</td>\n",
       "      <td>328417</td>\n",
       "      <td>4869155</td>\n",
       "      <td>142899503</td>\n",
       "      <td>24716696</td>\n",
       "      <td>98020022</td>\n",
       "      <td>1438969</td>\n",
       "      <td>...</td>\n",
       "      <td>1420563</td>\n",
       "      <td>736943</td>\n",
       "      <td>1507392</td>\n",
       "      <td>67114943</td>\n",
       "      <td>25430818</td>\n",
       "      <td>8730023</td>\n",
       "      <td>1958986</td>\n",
       "      <td>1745234</td>\n",
       "      <td>51913587</td>\n",
       "      <td>31920100</td>\n",
       "    </tr>\n",
       "    <tr>\n",
       "      <th>1</th>\n",
       "      <td>2018-08-31</td>\n",
       "      <td>9508616</td>\n",
       "      <td>12634840</td>\n",
       "      <td>1136095</td>\n",
       "      <td>384379</td>\n",
       "      <td>5207132</td>\n",
       "      <td>148764686</td>\n",
       "      <td>25975199</td>\n",
       "      <td>98106210</td>\n",
       "      <td>1498797</td>\n",
       "      <td>...</td>\n",
       "      <td>1465384</td>\n",
       "      <td>796085</td>\n",
       "      <td>1629058</td>\n",
       "      <td>75928950</td>\n",
       "      <td>24843040</td>\n",
       "      <td>9444484</td>\n",
       "      <td>2391996</td>\n",
       "      <td>2024877</td>\n",
       "      <td>55020209</td>\n",
       "      <td>33699774</td>\n",
       "    </tr>\n",
       "    <tr>\n",
       "      <th>2</th>\n",
       "      <td>2018-09-07</td>\n",
       "      <td>9717264</td>\n",
       "      <td>12538824</td>\n",
       "      <td>1043073</td>\n",
       "      <td>340697</td>\n",
       "      <td>5010547</td>\n",
       "      <td>142763299</td>\n",
       "      <td>26251701</td>\n",
       "      <td>93060881</td>\n",
       "      <td>1435962</td>\n",
       "      <td>...</td>\n",
       "      <td>1428749</td>\n",
       "      <td>775400</td>\n",
       "      <td>1602453</td>\n",
       "      <td>80271104</td>\n",
       "      <td>24352976</td>\n",
       "      <td>9183448</td>\n",
       "      <td>2108987</td>\n",
       "      <td>1975851</td>\n",
       "      <td>52755183</td>\n",
       "      <td>33092277</td>\n",
       "    </tr>\n",
       "    <tr>\n",
       "      <th>3</th>\n",
       "      <td>2018-09-14</td>\n",
       "      <td>9794815</td>\n",
       "      <td>12994948</td>\n",
       "      <td>1011482</td>\n",
       "      <td>365756</td>\n",
       "      <td>5432395</td>\n",
       "      <td>151528074</td>\n",
       "      <td>26286642</td>\n",
       "      <td>92130930</td>\n",
       "      <td>1402195</td>\n",
       "      <td>...</td>\n",
       "      <td>1434227</td>\n",
       "      <td>800165</td>\n",
       "      <td>1603317</td>\n",
       "      <td>79581894</td>\n",
       "      <td>24416983</td>\n",
       "      <td>9055023</td>\n",
       "      <td>2152635</td>\n",
       "      <td>1982482</td>\n",
       "      <td>53277596</td>\n",
       "      <td>33763708</td>\n",
       "    </tr>\n",
       "    <tr>\n",
       "      <th>4</th>\n",
       "      <td>2018-09-21</td>\n",
       "      <td>9570905</td>\n",
       "      <td>12930082</td>\n",
       "      <td>971304</td>\n",
       "      <td>358192</td>\n",
       "      <td>5362867</td>\n",
       "      <td>148899467</td>\n",
       "      <td>25622860</td>\n",
       "      <td>92773802</td>\n",
       "      <td>1377288</td>\n",
       "      <td>...</td>\n",
       "      <td>1381935</td>\n",
       "      <td>812493</td>\n",
       "      <td>1558056</td>\n",
       "      <td>78606490</td>\n",
       "      <td>24437330</td>\n",
       "      <td>9494344</td>\n",
       "      <td>2138312</td>\n",
       "      <td>1969050</td>\n",
       "      <td>52795704</td>\n",
       "      <td>33819316</td>\n",
       "    </tr>\n",
       "  </tbody>\n",
       "</table>\n",
       "<p>5 rows × 27 columns</p>\n",
       "</div>"
      ],
      "text/plain": [
       "              date   streams                                                 \\\n",
       "country                  AUT       BEL      BGR     CYP      CZE        DEU   \n",
       "0       2018-08-24  10301612  12348795   985485  328417  4869155  142899503   \n",
       "1       2018-08-31   9508616  12634840  1136095  384379  5207132  148764686   \n",
       "2       2018-09-07   9717264  12538824  1043073  340697  5010547  142763299   \n",
       "3       2018-09-14   9794815  12994948  1011482  365756  5432395  151528074   \n",
       "4       2018-09-21   9570905  12930082   971304  358192  5362867  148899467   \n",
       "\n",
       "                                      ...                                      \\\n",
       "country       DNK       ESP      EST  ...      LTU     LUX      LVA       NLD   \n",
       "0        24716696  98020022  1438969  ...  1420563  736943  1507392  67114943   \n",
       "1        25975199  98106210  1498797  ...  1465384  796085  1629058  75928950   \n",
       "2        26251701  93060881  1435962  ...  1428749  775400  1602453  80271104   \n",
       "3        26286642  92130930  1402195  ...  1434227  800165  1603317  79581894   \n",
       "4        25622860  92773802  1377288  ...  1381935  812493  1558056  78606490   \n",
       "\n",
       "                                                            mean  \n",
       "country       POL      PRT      ROU      SVK       SWE            \n",
       "0        25430818  8730023  1958986  1745234  51913587  31920100  \n",
       "1        24843040  9444484  2391996  2024877  55020209  33699774  \n",
       "2        24352976  9183448  2108987  1975851  52755183  33092277  \n",
       "3        24416983  9055023  2152635  1982482  53277596  33763708  \n",
       "4        24437330  9494344  2138312  1969050  52795704  33819316  \n",
       "\n",
       "[5 rows x 27 columns]"
      ]
     },
     "execution_count": 115,
     "metadata": {},
     "output_type": "execute_result"
    }
   ],
   "source": [
    "st.reset_index(inplace=True)\n",
    "st.head()"
   ]
  },
  {
   "cell_type": "code",
   "execution_count": 116,
   "metadata": {
    "scrolled": true
   },
   "outputs": [],
   "source": [
    "st.columns = st.columns.get_level_values(1)"
   ]
  },
  {
   "cell_type": "code",
   "execution_count": 117,
   "metadata": {
    "scrolled": true
   },
   "outputs": [
    {
     "data": {
      "text/plain": [
       "['date',\n",
       " 'AUT',\n",
       " 'BEL',\n",
       " 'BGR',\n",
       " 'CYP',\n",
       " 'CZE',\n",
       " 'DEU',\n",
       " 'DNK',\n",
       " 'ESP',\n",
       " 'EST',\n",
       " 'FIN',\n",
       " 'FRA',\n",
       " 'GBR',\n",
       " 'GRC',\n",
       " 'HUN',\n",
       " 'IRL',\n",
       " 'ITA',\n",
       " 'LTU',\n",
       " 'LUX',\n",
       " 'LVA',\n",
       " 'NLD',\n",
       " 'POL',\n",
       " 'PRT',\n",
       " 'ROU',\n",
       " 'SVK',\n",
       " 'SWE',\n",
       " 'streams']"
      ]
     },
     "execution_count": 117,
     "metadata": {},
     "output_type": "execute_result"
    }
   ],
   "source": [
    "col_names = list(st.columns)\n",
    "col_names[0] = \"date\"\n",
    "col_names[-1] = \"streams\"\n",
    "col_names"
   ]
  },
  {
   "cell_type": "code",
   "execution_count": 118,
   "metadata": {
    "scrolled": true
   },
   "outputs": [
    {
     "data": {
      "text/plain": [
       "Index(['date', 'AUT', 'BEL', 'BGR', 'CYP', 'CZE', 'DEU', 'DNK', 'ESP', 'EST',\n",
       "       'FIN', 'FRA', 'GBR', 'GRC', 'HUN', 'IRL', 'ITA', 'LTU', 'LUX', 'LVA',\n",
       "       'NLD', 'POL', 'PRT', 'ROU', 'SVK', 'SWE', 'streams'],\n",
       "      dtype='object')"
      ]
     },
     "execution_count": 118,
     "metadata": {},
     "output_type": "execute_result"
    }
   ],
   "source": [
    "st.columns = col_names\n",
    "st.columns"
   ]
  },
  {
   "cell_type": "code",
   "execution_count": 119,
   "metadata": {},
   "outputs": [],
   "source": [
    "to_drop = col_names[1: -1]\n",
    "st.drop(columns=to_drop, inplace=True)"
   ]
  },
  {
   "cell_type": "code",
   "execution_count": 124,
   "metadata": {},
   "outputs": [
    {
     "data": {
      "text/html": [
       "<div>\n",
       "<style scoped>\n",
       "    .dataframe tbody tr th:only-of-type {\n",
       "        vertical-align: middle;\n",
       "    }\n",
       "\n",
       "    .dataframe tbody tr th {\n",
       "        vertical-align: top;\n",
       "    }\n",
       "\n",
       "    .dataframe thead th {\n",
       "        text-align: right;\n",
       "    }\n",
       "</style>\n",
       "<table border=\"1\" class=\"dataframe\">\n",
       "  <thead>\n",
       "    <tr style=\"text-align: right;\">\n",
       "      <th></th>\n",
       "      <th>date</th>\n",
       "      <th>streams</th>\n",
       "    </tr>\n",
       "  </thead>\n",
       "  <tbody>\n",
       "    <tr>\n",
       "      <th>0</th>\n",
       "      <td>2018-08-24</td>\n",
       "      <td>31920100</td>\n",
       "    </tr>\n",
       "    <tr>\n",
       "      <th>1</th>\n",
       "      <td>2018-08-31</td>\n",
       "      <td>33699774</td>\n",
       "    </tr>\n",
       "    <tr>\n",
       "      <th>2</th>\n",
       "      <td>2018-09-07</td>\n",
       "      <td>33092277</td>\n",
       "    </tr>\n",
       "    <tr>\n",
       "      <th>3</th>\n",
       "      <td>2018-09-14</td>\n",
       "      <td>33763708</td>\n",
       "    </tr>\n",
       "    <tr>\n",
       "      <th>4</th>\n",
       "      <td>2018-09-21</td>\n",
       "      <td>33819316</td>\n",
       "    </tr>\n",
       "  </tbody>\n",
       "</table>\n",
       "</div>"
      ],
      "text/plain": [
       "        date   streams\n",
       "0 2018-08-24  31920100\n",
       "1 2018-08-31  33699774\n",
       "2 2018-09-07  33092277\n",
       "3 2018-09-14  33763708\n",
       "4 2018-09-21  33819316"
      ]
     },
     "execution_count": 124,
     "metadata": {},
     "output_type": "execute_result"
    }
   ],
   "source": [
    "st.head()"
   ]
  },
  {
   "cell_type": "markdown",
   "metadata": {},
   "source": [
    "## Clean structure of lockdown table "
   ]
  },
  {
   "cell_type": "code",
   "execution_count": 120,
   "metadata": {},
   "outputs": [],
   "source": [
    "ld.reset_index(inplace=True)"
   ]
  },
  {
   "cell_type": "code",
   "execution_count": 132,
   "metadata": {
    "scrolled": true
   },
   "outputs": [
    {
     "data": {
      "text/plain": [
       "dtype('<M8[ns]')"
      ]
     },
     "execution_count": 132,
     "metadata": {},
     "output_type": "execute_result"
    }
   ],
   "source": [
    "ld[\"date\"] = pd.to_datetime(ld[\"date\"])"
   ]
  },
  {
   "cell_type": "code",
   "execution_count": 121,
   "metadata": {
    "scrolled": true
   },
   "outputs": [],
   "source": [
    "col_names[-1] = \"stringency\"\n",
    "ld.columns = col_names\n",
    "ld.drop(columns = to_drop, inplace=True)"
   ]
  },
  {
   "cell_type": "code",
   "execution_count": 122,
   "metadata": {},
   "outputs": [
    {
     "data": {
      "text/html": [
       "<div>\n",
       "<style scoped>\n",
       "    .dataframe tbody tr th:only-of-type {\n",
       "        vertical-align: middle;\n",
       "    }\n",
       "\n",
       "    .dataframe tbody tr th {\n",
       "        vertical-align: top;\n",
       "    }\n",
       "\n",
       "    .dataframe thead th {\n",
       "        text-align: right;\n",
       "    }\n",
       "</style>\n",
       "<table border=\"1\" class=\"dataframe\">\n",
       "  <thead>\n",
       "    <tr style=\"text-align: right;\">\n",
       "      <th></th>\n",
       "      <th>date</th>\n",
       "      <th>stringency</th>\n",
       "    </tr>\n",
       "  </thead>\n",
       "  <tbody>\n",
       "    <tr>\n",
       "      <th>0</th>\n",
       "      <td>2020-01-03</td>\n",
       "      <td>0.0</td>\n",
       "    </tr>\n",
       "    <tr>\n",
       "      <th>1</th>\n",
       "      <td>2020-01-10</td>\n",
       "      <td>0.0</td>\n",
       "    </tr>\n",
       "    <tr>\n",
       "      <th>2</th>\n",
       "      <td>2020-01-17</td>\n",
       "      <td>0.0</td>\n",
       "    </tr>\n",
       "    <tr>\n",
       "      <th>3</th>\n",
       "      <td>2020-01-24</td>\n",
       "      <td>0.9</td>\n",
       "    </tr>\n",
       "    <tr>\n",
       "      <th>4</th>\n",
       "      <td>2020-01-31</td>\n",
       "      <td>3.7</td>\n",
       "    </tr>\n",
       "  </tbody>\n",
       "</table>\n",
       "</div>"
      ],
      "text/plain": [
       "         date  stringency\n",
       "0  2020-01-03         0.0\n",
       "1  2020-01-10         0.0\n",
       "2  2020-01-17         0.0\n",
       "3  2020-01-24         0.9\n",
       "4  2020-01-31         3.7"
      ]
     },
     "execution_count": 122,
     "metadata": {},
     "output_type": "execute_result"
    }
   ],
   "source": [
    "ld.head()"
   ]
  },
  {
   "cell_type": "code",
   "execution_count": 134,
   "metadata": {},
   "outputs": [
    {
     "data": {
      "text/html": [
       "<div>\n",
       "<style scoped>\n",
       "    .dataframe tbody tr th:only-of-type {\n",
       "        vertical-align: middle;\n",
       "    }\n",
       "\n",
       "    .dataframe tbody tr th {\n",
       "        vertical-align: top;\n",
       "    }\n",
       "\n",
       "    .dataframe thead th {\n",
       "        text-align: right;\n",
       "    }\n",
       "</style>\n",
       "<table border=\"1\" class=\"dataframe\">\n",
       "  <thead>\n",
       "    <tr style=\"text-align: right;\">\n",
       "      <th></th>\n",
       "      <th>date</th>\n",
       "      <th>streams</th>\n",
       "      <th>stringency</th>\n",
       "    </tr>\n",
       "  </thead>\n",
       "  <tbody>\n",
       "    <tr>\n",
       "      <th>0</th>\n",
       "      <td>2018-08-24</td>\n",
       "      <td>31920100</td>\n",
       "      <td>NaN</td>\n",
       "    </tr>\n",
       "    <tr>\n",
       "      <th>1</th>\n",
       "      <td>2018-08-31</td>\n",
       "      <td>33699774</td>\n",
       "      <td>NaN</td>\n",
       "    </tr>\n",
       "    <tr>\n",
       "      <th>2</th>\n",
       "      <td>2018-09-07</td>\n",
       "      <td>33092277</td>\n",
       "      <td>NaN</td>\n",
       "    </tr>\n",
       "    <tr>\n",
       "      <th>3</th>\n",
       "      <td>2018-09-14</td>\n",
       "      <td>33763708</td>\n",
       "      <td>NaN</td>\n",
       "    </tr>\n",
       "    <tr>\n",
       "      <th>4</th>\n",
       "      <td>2018-09-21</td>\n",
       "      <td>33819316</td>\n",
       "      <td>NaN</td>\n",
       "    </tr>\n",
       "  </tbody>\n",
       "</table>\n",
       "</div>"
      ],
      "text/plain": [
       "        date   streams  stringency\n",
       "0 2018-08-24  31920100         NaN\n",
       "1 2018-08-31  33699774         NaN\n",
       "2 2018-09-07  33092277         NaN\n",
       "3 2018-09-14  33763708         NaN\n",
       "4 2018-09-21  33819316         NaN"
      ]
     },
     "execution_count": 134,
     "metadata": {},
     "output_type": "execute_result"
    }
   ],
   "source": [
    "merg = pd.merge(st, ld, how='left', on='date')\n",
    "merg.head()"
   ]
  },
  {
   "cell_type": "markdown",
   "metadata": {},
   "source": [
    "## Export data"
   ]
  },
  {
   "cell_type": "code",
   "execution_count": 140,
   "metadata": {},
   "outputs": [],
   "source": [
    "merg.to_csv(\"merged_data.csv\")\n",
    "merg.to_pickle(\"merged_data.pkl\")"
   ]
  },
  {
   "cell_type": "code",
   "execution_count": null,
   "metadata": {},
   "outputs": [],
   "source": []
  }
 ],
 "metadata": {
  "kernelspec": {
   "display_name": "Python 3",
   "language": "python",
   "name": "python3"
  },
  "language_info": {
   "codemirror_mode": {
    "name": "ipython",
    "version": 3
   },
   "file_extension": ".py",
   "mimetype": "text/x-python",
   "name": "python",
   "nbconvert_exporter": "python",
   "pygments_lexer": "ipython3",
   "version": "3.8.5"
  }
 },
 "nbformat": 4,
 "nbformat_minor": 4
}
